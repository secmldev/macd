{
 "cells": [
  {
   "cell_type": "code",
   "execution_count": 2,
   "id": "db2b395c",
   "metadata": {},
   "outputs": [],
   "source": [
    "import pandas as pd\n",
    "import numpy as np\n",
    "from mod_my_utils.read_write_data import get_price_csv"
   ]
  },
  {
   "cell_type": "code",
   "execution_count": 3,
   "id": "7051dcb5",
   "metadata": {},
   "outputs": [],
   "source": [
    "folder_path = 'data/'\n",
    "stock_name = 'AAPL'\n",
    "index_col = 'Date'"
   ]
  },
  {
   "cell_type": "code",
   "execution_count": 4,
   "id": "93205543",
   "metadata": {},
   "outputs": [
    {
     "name": "stdout",
     "output_type": "stream",
     "text": [
      "stock name:  AAPL\n"
     ]
    }
   ],
   "source": [
    "stock_data = get_price_csv(folder_name=folder_path,symbol=stock_name, index_col=index_col)"
   ]
  },
  {
   "cell_type": "code",
   "execution_count": 11,
   "id": "6c84a0fa",
   "metadata": {},
   "outputs": [
    {
     "data": {
      "text/html": [
       "<div>\n",
       "<style scoped>\n",
       "    .dataframe tbody tr th:only-of-type {\n",
       "        vertical-align: middle;\n",
       "    }\n",
       "\n",
       "    .dataframe tbody tr th {\n",
       "        vertical-align: top;\n",
       "    }\n",
       "\n",
       "    .dataframe thead th {\n",
       "        text-align: right;\n",
       "    }\n",
       "</style>\n",
       "<table border=\"1\" class=\"dataframe\">\n",
       "  <thead>\n",
       "    <tr style=\"text-align: right;\">\n",
       "      <th></th>\n",
       "      <th>Price</th>\n",
       "    </tr>\n",
       "    <tr>\n",
       "      <th>Date</th>\n",
       "      <th></th>\n",
       "    </tr>\n",
       "  </thead>\n",
       "  <tbody>\n",
       "    <tr>\n",
       "      <th>2007-12-03</th>\n",
       "      <td>22.986003</td>\n",
       "    </tr>\n",
       "    <tr>\n",
       "      <th>2007-12-04</th>\n",
       "      <td>23.108091</td>\n",
       "    </tr>\n",
       "    <tr>\n",
       "      <th>2007-12-05</th>\n",
       "      <td>23.839335</td>\n",
       "    </tr>\n",
       "    <tr>\n",
       "      <th>2007-12-06</th>\n",
       "      <td>24.411582</td>\n",
       "    </tr>\n",
       "    <tr>\n",
       "      <th>2007-12-07</th>\n",
       "      <td>24.970258</td>\n",
       "    </tr>\n",
       "  </tbody>\n",
       "</table>\n",
       "</div>"
      ],
      "text/plain": [
       "                Price\n",
       "Date                 \n",
       "2007-12-03  22.986003\n",
       "2007-12-04  23.108091\n",
       "2007-12-05  23.839335\n",
       "2007-12-06  24.411582\n",
       "2007-12-07  24.970258"
      ]
     },
     "execution_count": 11,
     "metadata": {},
     "output_type": "execute_result"
    }
   ],
   "source": [
    "data = stock_data[[\"Adj. Close\"]].copy()\n",
    "data.columns = [\"Price\"] \n",
    "data.head()"
   ]
  },
  {
   "cell_type": "code",
   "execution_count": 12,
   "id": "90dba1f4",
   "metadata": {},
   "outputs": [],
   "source": [
    "data['MA50'] = data['Price'].rolling(window=50, min_periods=1).mean()"
   ]
  },
  {
   "cell_type": "code",
   "execution_count": 13,
   "id": "38ad3416",
   "metadata": {},
   "outputs": [],
   "source": [
    "data['MA250'] = data['Price'].rolling(window=250, min_periods=1).mean()"
   ]
  },
  {
   "cell_type": "code",
   "execution_count": 14,
   "id": "fd768650",
   "metadata": {},
   "outputs": [
    {
     "data": {
      "text/html": [
       "<div>\n",
       "<style scoped>\n",
       "    .dataframe tbody tr th:only-of-type {\n",
       "        vertical-align: middle;\n",
       "    }\n",
       "\n",
       "    .dataframe tbody tr th {\n",
       "        vertical-align: top;\n",
       "    }\n",
       "\n",
       "    .dataframe thead th {\n",
       "        text-align: right;\n",
       "    }\n",
       "</style>\n",
       "<table border=\"1\" class=\"dataframe\">\n",
       "  <thead>\n",
       "    <tr style=\"text-align: right;\">\n",
       "      <th></th>\n",
       "      <th>Price</th>\n",
       "      <th>MA50</th>\n",
       "      <th>MA250</th>\n",
       "    </tr>\n",
       "    <tr>\n",
       "      <th>Date</th>\n",
       "      <th></th>\n",
       "      <th></th>\n",
       "      <th></th>\n",
       "    </tr>\n",
       "  </thead>\n",
       "  <tbody>\n",
       "    <tr>\n",
       "      <th>2007-12-03</th>\n",
       "      <td>22.986003</td>\n",
       "      <td>22.986003</td>\n",
       "      <td>22.986003</td>\n",
       "    </tr>\n",
       "    <tr>\n",
       "      <th>2007-12-04</th>\n",
       "      <td>23.108091</td>\n",
       "      <td>23.047047</td>\n",
       "      <td>23.047047</td>\n",
       "    </tr>\n",
       "    <tr>\n",
       "      <th>2007-12-05</th>\n",
       "      <td>23.839335</td>\n",
       "      <td>23.311143</td>\n",
       "      <td>23.311143</td>\n",
       "    </tr>\n",
       "    <tr>\n",
       "      <th>2007-12-06</th>\n",
       "      <td>24.411582</td>\n",
       "      <td>23.586253</td>\n",
       "      <td>23.586253</td>\n",
       "    </tr>\n",
       "    <tr>\n",
       "      <th>2007-12-07</th>\n",
       "      <td>24.970258</td>\n",
       "      <td>23.863054</td>\n",
       "      <td>23.863054</td>\n",
       "    </tr>\n",
       "  </tbody>\n",
       "</table>\n",
       "</div>"
      ],
      "text/plain": [
       "                Price       MA50      MA250\n",
       "Date                                       \n",
       "2007-12-03  22.986003  22.986003  22.986003\n",
       "2007-12-04  23.108091  23.047047  23.047047\n",
       "2007-12-05  23.839335  23.311143  23.311143\n",
       "2007-12-06  24.411582  23.586253  23.586253\n",
       "2007-12-07  24.970258  23.863054  23.863054"
      ]
     },
     "execution_count": 14,
     "metadata": {},
     "output_type": "execute_result"
    }
   ],
   "source": [
    "data.head()"
   ]
  },
  {
   "cell_type": "code",
   "execution_count": 15,
   "id": "17a275cd",
   "metadata": {},
   "outputs": [],
   "source": [
    "data['MACD'] = data['MA50'] - data['MA250']"
   ]
  },
  {
   "cell_type": "code",
   "execution_count": 16,
   "id": "3569b5ee",
   "metadata": {},
   "outputs": [
    {
     "data": {
      "text/html": [
       "<div>\n",
       "<style scoped>\n",
       "    .dataframe tbody tr th:only-of-type {\n",
       "        vertical-align: middle;\n",
       "    }\n",
       "\n",
       "    .dataframe tbody tr th {\n",
       "        vertical-align: top;\n",
       "    }\n",
       "\n",
       "    .dataframe thead th {\n",
       "        text-align: right;\n",
       "    }\n",
       "</style>\n",
       "<table border=\"1\" class=\"dataframe\">\n",
       "  <thead>\n",
       "    <tr style=\"text-align: right;\">\n",
       "      <th></th>\n",
       "      <th>Price</th>\n",
       "      <th>MA50</th>\n",
       "      <th>MA250</th>\n",
       "      <th>MACD</th>\n",
       "    </tr>\n",
       "    <tr>\n",
       "      <th>Date</th>\n",
       "      <th></th>\n",
       "      <th></th>\n",
       "      <th></th>\n",
       "      <th></th>\n",
       "    </tr>\n",
       "  </thead>\n",
       "  <tbody>\n",
       "    <tr>\n",
       "      <th>2007-12-03</th>\n",
       "      <td>22.986003</td>\n",
       "      <td>22.986003</td>\n",
       "      <td>22.986003</td>\n",
       "      <td>0.000000</td>\n",
       "    </tr>\n",
       "    <tr>\n",
       "      <th>2007-12-04</th>\n",
       "      <td>23.108091</td>\n",
       "      <td>23.047047</td>\n",
       "      <td>23.047047</td>\n",
       "      <td>0.000000</td>\n",
       "    </tr>\n",
       "    <tr>\n",
       "      <th>2007-12-05</th>\n",
       "      <td>23.839335</td>\n",
       "      <td>23.311143</td>\n",
       "      <td>23.311143</td>\n",
       "      <td>0.000000</td>\n",
       "    </tr>\n",
       "    <tr>\n",
       "      <th>2007-12-06</th>\n",
       "      <td>24.411582</td>\n",
       "      <td>23.586253</td>\n",
       "      <td>23.586253</td>\n",
       "      <td>0.000000</td>\n",
       "    </tr>\n",
       "    <tr>\n",
       "      <th>2007-12-07</th>\n",
       "      <td>24.970258</td>\n",
       "      <td>23.863054</td>\n",
       "      <td>23.863054</td>\n",
       "      <td>0.000000</td>\n",
       "    </tr>\n",
       "    <tr>\n",
       "      <th>...</th>\n",
       "      <td>...</td>\n",
       "      <td>...</td>\n",
       "      <td>...</td>\n",
       "      <td>...</td>\n",
       "    </tr>\n",
       "    <tr>\n",
       "      <th>2008-05-05</th>\n",
       "      <td>23.740380</td>\n",
       "      <td>18.657731</td>\n",
       "      <td>19.790365</td>\n",
       "      <td>-1.132634</td>\n",
       "    </tr>\n",
       "    <tr>\n",
       "      <th>2008-05-06</th>\n",
       "      <td>23.988412</td>\n",
       "      <td>18.829734</td>\n",
       "      <td>19.829599</td>\n",
       "      <td>-0.999865</td>\n",
       "    </tr>\n",
       "    <tr>\n",
       "      <th>2008-05-07</th>\n",
       "      <td>23.465360</td>\n",
       "      <td>18.992792</td>\n",
       "      <td>19.863263</td>\n",
       "      <td>-0.870471</td>\n",
       "    </tr>\n",
       "    <tr>\n",
       "      <th>2008-05-08</th>\n",
       "      <td>23.782789</td>\n",
       "      <td>19.152407</td>\n",
       "      <td>19.899222</td>\n",
       "      <td>-0.746816</td>\n",
       "    </tr>\n",
       "    <tr>\n",
       "      <th>2008-05-09</th>\n",
       "      <td>23.575882</td>\n",
       "      <td>19.290019</td>\n",
       "      <td>19.932646</td>\n",
       "      <td>-0.642627</td>\n",
       "    </tr>\n",
       "  </tbody>\n",
       "</table>\n",
       "<p>110 rows × 4 columns</p>\n",
       "</div>"
      ],
      "text/plain": [
       "                Price       MA50      MA250      MACD\n",
       "Date                                                 \n",
       "2007-12-03  22.986003  22.986003  22.986003  0.000000\n",
       "2007-12-04  23.108091  23.047047  23.047047  0.000000\n",
       "2007-12-05  23.839335  23.311143  23.311143  0.000000\n",
       "2007-12-06  24.411582  23.586253  23.586253  0.000000\n",
       "2007-12-07  24.970258  23.863054  23.863054  0.000000\n",
       "...               ...        ...        ...       ...\n",
       "2008-05-05  23.740380  18.657731  19.790365 -1.132634\n",
       "2008-05-06  23.988412  18.829734  19.829599 -0.999865\n",
       "2008-05-07  23.465360  18.992792  19.863263 -0.870471\n",
       "2008-05-08  23.782789  19.152407  19.899222 -0.746816\n",
       "2008-05-09  23.575882  19.290019  19.932646 -0.642627\n",
       "\n",
       "[110 rows x 4 columns]"
      ]
     },
     "execution_count": 16,
     "metadata": {},
     "output_type": "execute_result"
    }
   ],
   "source": [
    "data.head(110)"
   ]
  },
  {
   "cell_type": "code",
   "execution_count": 27,
   "id": "e6bce5db",
   "metadata": {},
   "outputs": [
    {
     "data": {
      "text/plain": [
       "<AxesSubplot:xlabel='Date'>"
      ]
     },
     "execution_count": 27,
     "metadata": {},
     "output_type": "execute_result"
    },
    {
     "data": {
      "image/png": "[encoded data removed]",
      "text/plain": [
       "<Figure size 432x288 with 1 Axes>"
      ]
     },
     "metadata": {
      "needs_background": "light"
     },
     "output_type": "display_data"
    }
   ],
   "source": [
    "data['MACD'].plot()"
   ]
  },
  {
   "cell_type": "markdown",
   "id": "29c47e0a",
   "metadata": {},
   "source": [
    "<img src='img/macd_signal1.png'>"
   ]
  },
  {
   "cell_type": "markdown",
   "id": "2044e328",
   "metadata": {},
   "source": [
    "<img src='img/macd_signal.png'>"
   ]
  },
  {
   "cell_type": "markdown",
   "id": "fe1e58f8",
   "metadata": {},
   "source": [
    "if macd > 0:\n",
    "middle = 1\n",
    "else:\n",
    "middle = 0\n",
    "\n",
    "\n",
    "diff(middle)"
   ]
  },
  {
   "cell_type": "code",
   "execution_count": 75,
   "id": "69452958",
   "metadata": {},
   "outputs": [],
   "source": [
    "df = data.copy()"
   ]
  },
  {
   "cell_type": "code",
   "execution_count": 76,
   "id": "89f7c115",
   "metadata": {},
   "outputs": [],
   "source": [
    "df['middle'] = np.where(df['MACD'] > 0, 1, 0)"
   ]
  },
  {
   "cell_type": "code",
   "execution_count": 77,
   "id": "b6251cff",
   "metadata": {},
   "outputs": [
    {
     "data": {
      "text/plain": [
       "<AxesSubplot: xlabel='Date'>"
      ]
     },
     "execution_count": 77,
     "metadata": {},
     "output_type": "execute_result"
    },
    {
     "data": {
      "image/png": "[encoded data removed]",
      "text/plain": [
       "<Figure size 640x480 with 1 Axes>"
      ]
     },
     "metadata": {},
     "output_type": "display_data"
    }
   ],
   "source": [
    "df['middle'].plot()"
   ]
  },
  {
   "cell_type": "code",
   "execution_count": 78,
   "id": "a2b0b6f4",
   "metadata": {},
   "outputs": [],
   "source": [
    "df['diff_middle'] = df['middle'] - df['middle'].shift(1)"
   ]
  },
  {
   "cell_type": "code",
   "execution_count": 79,
   "id": "0b17b90c",
   "metadata": {},
   "outputs": [],
   "source": [
    "def calc_signal(n):\n",
    "    if n == -1:\n",
    "        return 'sell'\n",
    "    elif n == 1:\n",
    "        return 'buy'\n",
    "    else: \n",
    "        return 'hold'"
   ]
  },
  {
   "cell_type": "code",
   "execution_count": 80,
   "id": "53bc4cef",
   "metadata": {},
   "outputs": [],
   "source": [
    "df['buy_sell'] = df['diff_middle'].apply(calc_signal)"
   ]
  },
  {
   "cell_type": "code",
   "execution_count": 81,
   "id": "a4411852",
   "metadata": {},
   "outputs": [],
   "source": [
    "df.drop(['middle', 'diff_middle'], axis=1, inplace=True)"
   ]
  },
  {
   "cell_type": "code",
   "execution_count": 82,
   "id": "9d71b073",
   "metadata": {},
   "outputs": [
    {
     "data": {
      "text/html": [
       "<div>\n",
       "<style scoped>\n",
       "    .dataframe tbody tr th:only-of-type {\n",
       "        vertical-align: middle;\n",
       "    }\n",
       "\n",
       "    .dataframe tbody tr th {\n",
       "        vertical-align: top;\n",
       "    }\n",
       "\n",
       "    .dataframe thead th {\n",
       "        text-align: right;\n",
       "    }\n",
       "</style>\n",
       "<table border=\"1\" class=\"dataframe\">\n",
       "  <thead>\n",
       "    <tr style=\"text-align: right;\">\n",
       "      <th></th>\n",
       "      <th>Price</th>\n",
       "      <th>MA50</th>\n",
       "      <th>MA250</th>\n",
       "      <th>MACD</th>\n",
       "      <th>buy_sell</th>\n",
       "    </tr>\n",
       "    <tr>\n",
       "      <th>Date</th>\n",
       "      <th></th>\n",
       "      <th></th>\n",
       "      <th></th>\n",
       "      <th></th>\n",
       "      <th></th>\n",
       "    </tr>\n",
       "  </thead>\n",
       "  <tbody>\n",
       "    <tr>\n",
       "      <th>2007-12-03</th>\n",
       "      <td>22.986003</td>\n",
       "      <td>22.986003</td>\n",
       "      <td>22.986003</td>\n",
       "      <td>0.000000</td>\n",
       "      <td>hold</td>\n",
       "    </tr>\n",
       "    <tr>\n",
       "      <th>2007-12-04</th>\n",
       "      <td>23.108091</td>\n",
       "      <td>23.047047</td>\n",
       "      <td>23.047047</td>\n",
       "      <td>0.000000</td>\n",
       "      <td>hold</td>\n",
       "    </tr>\n",
       "    <tr>\n",
       "      <th>2007-12-05</th>\n",
       "      <td>23.839335</td>\n",
       "      <td>23.311143</td>\n",
       "      <td>23.311143</td>\n",
       "      <td>0.000000</td>\n",
       "      <td>hold</td>\n",
       "    </tr>\n",
       "    <tr>\n",
       "      <th>2007-12-06</th>\n",
       "      <td>24.411582</td>\n",
       "      <td>23.586253</td>\n",
       "      <td>23.586253</td>\n",
       "      <td>0.000000</td>\n",
       "      <td>hold</td>\n",
       "    </tr>\n",
       "    <tr>\n",
       "      <th>2007-12-07</th>\n",
       "      <td>24.970258</td>\n",
       "      <td>23.863054</td>\n",
       "      <td>23.863054</td>\n",
       "      <td>0.000000</td>\n",
       "      <td>hold</td>\n",
       "    </tr>\n",
       "    <tr>\n",
       "      <th>...</th>\n",
       "      <td>...</td>\n",
       "      <td>...</td>\n",
       "      <td>...</td>\n",
       "      <td>...</td>\n",
       "      <td>...</td>\n",
       "    </tr>\n",
       "    <tr>\n",
       "      <th>2017-11-27</th>\n",
       "      <td>174.090000</td>\n",
       "      <td>162.113916</td>\n",
       "      <td>144.210697</td>\n",
       "      <td>17.903219</td>\n",
       "      <td>hold</td>\n",
       "    </tr>\n",
       "    <tr>\n",
       "      <th>2017-11-28</th>\n",
       "      <td>173.070000</td>\n",
       "      <td>162.377716</td>\n",
       "      <td>144.462209</td>\n",
       "      <td>17.915507</td>\n",
       "      <td>hold</td>\n",
       "    </tr>\n",
       "    <tr>\n",
       "      <th>2017-11-29</th>\n",
       "      <td>169.480000</td>\n",
       "      <td>162.593916</td>\n",
       "      <td>144.699796</td>\n",
       "      <td>17.894120</td>\n",
       "      <td>hold</td>\n",
       "    </tr>\n",
       "    <tr>\n",
       "      <th>2017-11-30</th>\n",
       "      <td>171.850000</td>\n",
       "      <td>162.856316</td>\n",
       "      <td>144.950576</td>\n",
       "      <td>17.905740</td>\n",
       "      <td>hold</td>\n",
       "    </tr>\n",
       "    <tr>\n",
       "      <th>2017-12-01</th>\n",
       "      <td>171.050000</td>\n",
       "      <td>163.155916</td>\n",
       "      <td>145.202226</td>\n",
       "      <td>17.953690</td>\n",
       "      <td>hold</td>\n",
       "    </tr>\n",
       "  </tbody>\n",
       "</table>\n",
       "<p>2517 rows × 5 columns</p>\n",
       "</div>"
      ],
      "text/plain": [
       "                 Price        MA50       MA250       MACD buy_sell\n",
       "Date                                                              \n",
       "2007-12-03   22.986003   22.986003   22.986003   0.000000     hold\n",
       "2007-12-04   23.108091   23.047047   23.047047   0.000000     hold\n",
       "2007-12-05   23.839335   23.311143   23.311143   0.000000     hold\n",
       "2007-12-06   24.411582   23.586253   23.586253   0.000000     hold\n",
       "2007-12-07   24.970258   23.863054   23.863054   0.000000     hold\n",
       "...                ...         ...         ...        ...      ...\n",
       "2017-11-27  174.090000  162.113916  144.210697  17.903219     hold\n",
       "2017-11-28  173.070000  162.377716  144.462209  17.915507     hold\n",
       "2017-11-29  169.480000  162.593916  144.699796  17.894120     hold\n",
       "2017-11-30  171.850000  162.856316  144.950576  17.905740     hold\n",
       "2017-12-01  171.050000  163.155916  145.202226  17.953690     hold\n",
       "\n",
       "[2517 rows x 5 columns]"
      ]
     },
     "execution_count": 82,
     "metadata": {},
     "output_type": "execute_result"
    }
   ],
   "source": [
    "df"
   ]
  }
 ],
 "metadata": {
  "kernelspec": {
   "display_name": "Python 3 (ipykernel)",
   "language": "python",
   "name": "python3"
  },
  "language_info": {
   "codemirror_mode": {
    "name": "ipython",
    "version": 3
   },
   "file_extension": ".py",
   "mimetype": "text/x-python",
   "name": "python",
   "nbconvert_exporter": "python",
   "pygments_lexer": "ipython3",
   "version": "3.9.13"
  }
 },
 "nbformat": 4,
 "nbformat_minor": 5
}
